{
 "cells": [
  {
   "cell_type": "markdown",
   "metadata": {},
   "source": [
    "## Importing Libraries"
   ]
  },
  {
   "cell_type": "code",
   "execution_count": null,
   "metadata": {
    "_kg_hide-input": true,
    "execution": {
     "iopub.execute_input": "2022-10-23T23:17:50.226858Z",
     "iopub.status.busy": "2022-10-23T23:17:50.226255Z",
     "iopub.status.idle": "2022-10-23T23:17:59.799992Z",
     "shell.execute_reply": "2022-10-23T23:17:59.798901Z",
     "shell.execute_reply.started": "2022-10-23T23:17:50.226737Z"
    }
   },
   "outputs": [],
   "source": [
    "import librosa\n",
    "import pandas as pd\n",
    "import numpy as np\n",
    "import matplotlib.pyplot as plt\n",
    "%matplotlib inline\n",
    "import os\n",
    "import csv\n",
    "import base64\n",
    "from IPython.display import HTML\n",
    "# Preprocessing\n",
    "from sklearn.model_selection import train_test_split\n",
    "from sklearn.preprocessing import LabelEncoder, StandardScaler\n",
    "import sklearn.model_selection as skms\n",
    "#Keras\n",
    "import keras\n",
    "from keras import models\n",
    "from keras import layers\n",
    "from tensorflow import keras\n",
    "from warnings import filterwarnings\n",
    "for dirname, _, filenames in os.walk('Dataset/Data/genres_original/'):\n",
    "    for filename in filenames:\n",
    "        print(os.path.join(dirname, filename))"
   ]
  },
  {
   "cell_type": "markdown",
   "metadata": {},
   "source": [
    "## Feature Extraction"
   ]
  },
  {
   "cell_type": "markdown",
   "metadata": {},
   "source": [
    "First we take the address of the dataset storage"
   ]
  },
  {
   "cell_type": "code",
   "execution_count": null,
   "metadata": {
    "execution": {
     "iopub.execute_input": "2022-10-23T23:17:59.803151Z",
     "iopub.status.busy": "2022-10-23T23:17:59.802107Z",
     "iopub.status.idle": "2022-10-23T23:17:59.811449Z",
     "shell.execute_reply": "2022-10-23T23:17:59.810034Z",
     "shell.execute_reply.started": "2022-10-23T23:17:59.803109Z"
    }
   },
   "outputs": [],
   "source": [
    "general_path = '../input/gtzan-genre-collection'\n",
    "print(list(os.listdir(f'{general_path}/genres/')))"
   ]
  },
  {
   "cell_type": "markdown",
   "metadata": {},
   "source": [
    "Before we split the audio files make empty directories for each genre"
   ]
  },
  {
   "cell_type": "code",
   "execution_count": null,
   "metadata": {
    "execution": {
     "iopub.execute_input": "2022-10-23T23:17:59.814656Z",
     "iopub.status.busy": "2022-10-23T23:17:59.813416Z",
     "iopub.status.idle": "2022-10-23T23:17:59.833036Z",
     "shell.execute_reply": "2022-10-23T23:17:59.831392Z",
     "shell.execute_reply.started": "2022-10-23T23:17:59.814615Z"
    }
   },
   "outputs": [],
   "source": [
    "genres = 'blues classical country disco hiphop jazz metal pop reggae rock'\n",
    "genres = genres.split()\n",
    "\n",
    "for g in genres:\n",
    "  path_audio = os.path.join('/kaggle/working/content/audio3sec',f'{g}')\n",
    "  os.makedirs(path_audio)"
   ]
  },
  {
   "cell_type": "markdown",
   "metadata": {},
   "source": [
    "Now we will make use of AudioSegment from pydub package to split our audio files."
   ]
  },
  {
   "cell_type": "code",
   "execution_count": null,
   "metadata": {
    "execution": {
     "iopub.execute_input": "2022-10-23T23:17:59.836939Z",
     "iopub.status.busy": "2022-10-23T23:17:59.835802Z",
     "iopub.status.idle": "2022-10-23T23:48:42.328139Z",
     "shell.execute_reply": "2022-10-23T23:48:42.326481Z",
     "shell.execute_reply.started": "2022-10-23T23:17:59.836896Z"
    }
   },
   "outputs": [],
   "source": [
    "from pydub import AudioSegment\n",
    "\n",
    "i = 0\n",
    "for g in genres:\n",
    "    j=0\n",
    "    for filename in os.listdir(f'{general_path}/genres/{g}'):\n",
    "        song = f'{general_path}/genres/{g}/{filename}'\n",
    "\n",
    "        j = j+1\n",
    "        for w in range(0,10):\n",
    "            i = i+1\n",
    "            t1 = 3*(w)*1000\n",
    "            t2 = 3*(w+1)*1000\n",
    "            newAudio = AudioSegment.from_file(song, 'au')\n",
    "            new = newAudio[t1:t2]\n",
    "            new.export(f'/kaggle/working/content/audio3sec/{g}/{g+str(j)+str(w)}.wav', format=\"wav\") "
   ]
  },
  {
   "cell_type": "markdown",
   "metadata": {},
   "source": [
    "create header to save the feature extraction results"
   ]
  },
  {
   "cell_type": "code",
   "execution_count": null,
   "metadata": {
    "execution": {
     "iopub.execute_input": "2022-10-23T23:48:42.330423Z",
     "iopub.status.busy": "2022-10-23T23:48:42.33002Z",
     "iopub.status.idle": "2022-10-23T23:48:42.337192Z",
     "shell.execute_reply": "2022-10-23T23:48:42.336248Z",
     "shell.execute_reply.started": "2022-10-23T23:48:42.330385Z"
    }
   },
   "outputs": [],
   "source": [
    "header = 'filename chroma_stft rmse spectral_centroid spectral_bandwidth rolloff zero_crossing_rate'\n",
    "for i in range(1, 21):\n",
    "    header += f' mfcc{i}'\n",
    "header += ' label'\n",
    "header = header.split()"
   ]
  },
  {
   "cell_type": "markdown",
   "metadata": {},
   "source": [
    "Now we will use librosa to generate feature extraction for the audio files."
   ]
  },
  {
   "cell_type": "code",
   "execution_count": null,
   "metadata": {
    "execution": {
     "iopub.execute_input": "2022-10-23T23:48:42.339595Z",
     "iopub.status.busy": "2022-10-23T23:48:42.338537Z",
     "iopub.status.idle": "2022-10-24T00:02:42.817257Z",
     "shell.execute_reply": "2022-10-24T00:02:42.814845Z",
     "shell.execute_reply.started": "2022-10-23T23:48:42.33956Z"
    }
   },
   "outputs": [],
   "source": [
    "file = open('data-3s.csv', 'w', newline='')\n",
    "with file:\n",
    "    writer = csv.writer(file)\n",
    "    writer.writerow(header)\n",
    "    \n",
    "for g in genres:\n",
    "    for filename in os.listdir(f'/kaggle/working/content/audio3sec/{g}'):\n",
    "        songname = f'/kaggle/working/content/audio3sec/{g}/{filename}'\n",
    "        y, sr = librosa.load(songname, mono=True, duration=3)\n",
    "        chroma_stft = librosa.feature.chroma_stft(y=y, sr=sr)\n",
    "        rmse = librosa.feature.rms(y=y)\n",
    "        spec_cent = librosa.feature.spectral_centroid(y=y, sr=sr)\n",
    "        spec_bw = librosa.feature.spectral_bandwidth(y=y, sr=sr)\n",
    "        rolloff = librosa.feature.spectral_rolloff(y=y, sr=sr)\n",
    "        zcr = librosa.feature.zero_crossing_rate(y)\n",
    "        mfcc = librosa.feature.mfcc(y=y, sr=sr)\n",
    "        to_append = f'{filename} {np.mean(chroma_stft)} {np.mean(rmse)} {np.mean(spec_cent)} {np.mean(spec_bw)} {np.mean(rolloff)} {np.mean(zcr)}'    \n",
    "        for e in mfcc:\n",
    "            to_append += f' {np.mean(e)}'\n",
    "        to_append += f' {g}'\n",
    "        file = open('data-3s.csv', 'a', newline='')\n",
    "        with file:\n",
    "            writer = csv.writer(file)\n",
    "            writer.writerow(to_append.split())        "
   ]
  },
  {
   "cell_type": "markdown",
   "metadata": {},
   "source": [
    "## Data Preparation"
   ]
  },
  {
   "cell_type": "code",
   "execution_count": null,
   "metadata": {
    "execution": {
     "iopub.execute_input": "2022-10-24T00:02:42.820876Z",
     "iopub.status.busy": "2022-10-24T00:02:42.819982Z",
     "iopub.status.idle": "2022-10-24T00:02:43.001427Z",
     "shell.execute_reply": "2022-10-24T00:02:43.00029Z",
     "shell.execute_reply.started": "2022-10-24T00:02:42.820818Z"
    }
   },
   "outputs": [],
   "source": [
    "data_3s = pd.read_csv('data-3s.csv')\n",
    "data_3s.head()"
   ]
  },
  {
   "cell_type": "markdown",
   "metadata": {},
   "source": [
    "Show columns and rows in the feature extraction data"
   ]
  },
  {
   "cell_type": "code",
   "execution_count": null,
   "metadata": {
    "execution": {
     "iopub.execute_input": "2022-10-24T00:02:43.00341Z",
     "iopub.status.busy": "2022-10-24T00:02:43.003019Z",
     "iopub.status.idle": "2022-10-24T00:02:43.010141Z",
     "shell.execute_reply": "2022-10-24T00:02:43.00928Z",
     "shell.execute_reply.started": "2022-10-24T00:02:43.003377Z"
    }
   },
   "outputs": [],
   "source": [
    "data_3s.shape"
   ]
  },
  {
   "cell_type": "markdown",
   "metadata": {},
   "source": [
    "Create download link for the feature extraction data"
   ]
  },
  {
   "cell_type": "code",
   "execution_count": null,
   "metadata": {
    "execution": {
     "iopub.execute_input": "2022-10-24T00:02:43.012162Z",
     "iopub.status.busy": "2022-10-24T00:02:43.011628Z",
     "iopub.status.idle": "2022-10-24T00:02:43.549814Z",
     "shell.execute_reply": "2022-10-24T00:02:43.547617Z",
     "shell.execute_reply.started": "2022-10-24T00:02:43.012076Z"
    }
   },
   "outputs": [],
   "source": [
    "def create_download_link(df, title = \"Download CSV file\", filename = \"data-features.csv\"):  \n",
    "    csv = df.to_csv()\n",
    "    b64 = base64.b64encode(csv.encode())\n",
    "    payload = b64.decode()\n",
    "    html = '<a download=\"{filename}\" href=\"data:text/csv;base64,{payload}\" target=\"_blank\">{title}</a>'\n",
    "    html = html.format(payload=payload,title=title,filename=filename)\n",
    "    return HTML(html)\n",
    "\n",
    "create_download_link(data_3s)"
   ]
  },
  {
   "cell_type": "code",
   "execution_count": null,
   "metadata": {
    "execution": {
     "iopub.execute_input": "2022-10-24T00:02:43.554721Z",
     "iopub.status.busy": "2022-10-24T00:02:43.554093Z",
     "iopub.status.idle": "2022-10-24T00:02:43.563822Z",
     "shell.execute_reply": "2022-10-24T00:02:43.562831Z",
     "shell.execute_reply.started": "2022-10-24T00:02:43.55468Z"
    }
   },
   "outputs": [],
   "source": [
    "seed = 12\n",
    "np.random.seed(seed)\n",
    "\n",
    "data_shuffle = data_3s.sample(frac=1, random_state=seed).reset_index(drop=True)"
   ]
  },
  {
   "cell_type": "markdown",
   "metadata": {},
   "source": [
    "Delete column with name filename"
   ]
  },
  {
   "cell_type": "code",
   "execution_count": null,
   "metadata": {
    "execution": {
     "iopub.execute_input": "2022-10-24T00:02:43.566168Z",
     "iopub.status.busy": "2022-10-24T00:02:43.565549Z",
     "iopub.status.idle": "2022-10-24T00:02:43.600982Z",
     "shell.execute_reply": "2022-10-24T00:02:43.599835Z",
     "shell.execute_reply.started": "2022-10-24T00:02:43.566134Z"
    }
   },
   "outputs": [],
   "source": [
    "data_shuffle = data_shuffle.drop(['filename'],axis=1)\n",
    "data_shuffle.head()"
   ]
  },
  {
   "cell_type": "markdown",
   "metadata": {},
   "source": [
    "## Set Independent and Dependent Values"
   ]
  },
  {
   "cell_type": "code",
   "execution_count": null,
   "metadata": {
    "execution": {
     "iopub.execute_input": "2022-10-24T00:02:43.60355Z",
     "iopub.status.busy": "2022-10-24T00:02:43.602821Z",
     "iopub.status.idle": "2022-10-24T00:02:43.610017Z",
     "shell.execute_reply": "2022-10-24T00:02:43.608682Z",
     "shell.execute_reply.started": "2022-10-24T00:02:43.603503Z"
    }
   },
   "outputs": [],
   "source": [
    "X = data_shuffle.iloc[:, :-1]"
   ]
  },
  {
   "cell_type": "code",
   "execution_count": null,
   "metadata": {
    "execution": {
     "iopub.execute_input": "2022-10-24T00:02:43.612231Z",
     "iopub.status.busy": "2022-10-24T00:02:43.611844Z",
     "iopub.status.idle": "2022-10-24T00:02:43.630349Z",
     "shell.execute_reply": "2022-10-24T00:02:43.629039Z",
     "shell.execute_reply.started": "2022-10-24T00:02:43.612196Z"
    }
   },
   "outputs": [],
   "source": [
    "genre_list = data_shuffle.iloc[:, -1]\n",
    "encoder = LabelEncoder()\n",
    "\n",
    "y = encoder.fit_transform(genre_list)\n",
    "print(y)"
   ]
  },
  {
   "cell_type": "markdown",
   "metadata": {},
   "source": [
    "## Splitting the dataset into the Training set and Test set"
   ]
  },
  {
   "cell_type": "code",
   "execution_count": null,
   "metadata": {
    "execution": {
     "iopub.execute_input": "2022-10-24T00:02:43.632961Z",
     "iopub.status.busy": "2022-10-24T00:02:43.632504Z",
     "iopub.status.idle": "2022-10-24T00:02:43.651445Z",
     "shell.execute_reply": "2022-10-24T00:02:43.650191Z",
     "shell.execute_reply.started": "2022-10-24T00:02:43.632909Z"
    }
   },
   "outputs": [],
   "source": [
    "X_train, df_test_valid_X, y_train, df_test_valid_y = skms.train_test_split(X, y, train_size=0.7, random_state=seed, stratify=y)\n",
    "X_dev, X_test, y_dev, y_test = skms.train_test_split(df_test_valid_X, df_test_valid_y, train_size=0.66, random_state=seed, stratify=df_test_valid_y)"
   ]
  },
  {
   "cell_type": "code",
   "execution_count": null,
   "metadata": {
    "execution": {
     "iopub.execute_input": "2022-10-24T00:02:43.653774Z",
     "iopub.status.busy": "2022-10-24T00:02:43.652796Z",
     "iopub.status.idle": "2022-10-24T00:02:43.65937Z",
     "shell.execute_reply": "2022-10-24T00:02:43.658563Z",
     "shell.execute_reply.started": "2022-10-24T00:02:43.653743Z"
    }
   },
   "outputs": [],
   "source": [
    "print(f\"Train set has {X_train.shape[0]} records out of {len(data_shuffle)} which is {round(X_train.shape[0]/len(data_shuffle)*100)}%\")\n",
    "print(f\"Dev set has {X_dev.shape[0]} records out of {len(data_shuffle)} which is {round(X_dev.shape[0]/len(data_shuffle)*100)}%\")\n",
    "print(f\"Test set has {X_test.shape[0]} records out of {len(data_shuffle)} which is {round(X_test.shape[0]/len(data_shuffle)*100)}%\")"
   ]
  },
  {
   "cell_type": "markdown",
   "metadata": {},
   "source": [
    "## Feature Scaling"
   ]
  },
  {
   "cell_type": "code",
   "execution_count": null,
   "metadata": {
    "execution": {
     "iopub.execute_input": "2022-10-24T00:02:43.661576Z",
     "iopub.status.busy": "2022-10-24T00:02:43.660513Z",
     "iopub.status.idle": "2022-10-24T00:02:43.680986Z",
     "shell.execute_reply": "2022-10-24T00:02:43.679908Z",
     "shell.execute_reply.started": "2022-10-24T00:02:43.661542Z"
    }
   },
   "outputs": [],
   "source": [
    "import sklearn.preprocessing as skp\n",
    "\n",
    "scaler = skp.StandardScaler()\n",
    "\n",
    "X_train = pd.DataFrame(scaler.fit_transform(X_train), columns=X_train.columns)\n",
    "X_dev = pd.DataFrame(scaler.transform(X_dev), columns=X_train.columns)\n",
    "X_test = pd.DataFrame(scaler.transform(X_test), columns=X_train.columns)"
   ]
  },
  {
   "cell_type": "markdown",
   "metadata": {},
   "source": [
    "## Model Building"
   ]
  },
  {
   "cell_type": "code",
   "execution_count": null,
   "metadata": {
    "execution": {
     "iopub.execute_input": "2022-10-24T00:02:43.682993Z",
     "iopub.status.busy": "2022-10-24T00:02:43.682122Z",
     "iopub.status.idle": "2022-10-24T00:02:43.688777Z",
     "shell.execute_reply": "2022-10-24T00:02:43.687855Z",
     "shell.execute_reply.started": "2022-10-24T00:02:43.682937Z"
    }
   },
   "outputs": [],
   "source": [
    "import tensorflow as tf\n",
    "print(\"TF version:-\", tf.__version__)\n",
    "import keras as k\n",
    "tf.random.set_seed(seed)"
   ]
  },
  {
   "cell_type": "code",
   "execution_count": null,
   "metadata": {
    "execution": {
     "iopub.execute_input": "2022-10-24T00:02:43.690548Z",
     "iopub.status.busy": "2022-10-24T00:02:43.689948Z",
     "iopub.status.idle": "2022-10-24T00:02:43.69969Z",
     "shell.execute_reply": "2022-10-24T00:02:43.698794Z",
     "shell.execute_reply.started": "2022-10-24T00:02:43.690514Z"
    }
   },
   "outputs": [],
   "source": [
    "ACCURACY_THRESHOLD = 0.94\n",
    "\n",
    "class myCallback(k.callbacks.Callback):\n",
    "    def on_epoch_end(self, epoch, logs={}):\n",
    "        if(logs.get('val_accuracy') > ACCURACY_THRESHOLD):\n",
    "            print(\"\\n\\nStopping training as we have reached %2.2f%% accuracy!\" %(ACCURACY_THRESHOLD*100))   \n",
    "            self.model.stop_training = True\n",
    "\n",
    "def trainModel(model, epochs, optimizer):\n",
    "    batch_size = 128\n",
    "    callback = myCallback()\n",
    "    model.compile(optimizer=optimizer,\n",
    "                  loss='sparse_categorical_crossentropy',\n",
    "                  metrics='accuracy'\n",
    "    )\n",
    "    return model.fit(X_train, y_train, validation_data=(X_dev, y_dev), epochs=epochs, \n",
    "                     batch_size=batch_size, callbacks=[callback])\n",
    "\n",
    "def plotHistory(history):\n",
    "    print(\"Max. Validation Accuracy\",max(history.history[\"val_accuracy\"]))\n",
    "    pd.DataFrame(history.history).plot(figsize=(12,6))\n",
    "    plt.show()"
   ]
  },
  {
   "cell_type": "code",
   "execution_count": null,
   "metadata": {
    "execution": {
     "iopub.execute_input": "2022-10-24T00:02:43.70182Z",
     "iopub.status.busy": "2022-10-24T00:02:43.700918Z",
     "iopub.status.idle": "2022-10-24T00:03:03.320484Z",
     "shell.execute_reply": "2022-10-24T00:03:03.319058Z",
     "shell.execute_reply.started": "2022-10-24T00:02:43.701785Z"
    }
   },
   "outputs": [],
   "source": [
    "model_1 = k.models.Sequential([\n",
    "    k.layers.Dense(256, activation='relu', input_shape=(X_train.shape[1],)),\n",
    "    k.layers.Dense(128, activation='relu'),\n",
    "    k.layers.Dense(64, activation='relu'),\n",
    "    k.layers.Dense(10, activation='softmax'),\n",
    "])\n",
    "print(model_1.summary())\n",
    "model_1_history = trainModel(model=model_1, epochs=70, optimizer='adam')"
   ]
  },
  {
   "cell_type": "code",
   "execution_count": null,
   "metadata": {
    "execution": {
     "iopub.execute_input": "2022-10-24T00:03:03.322886Z",
     "iopub.status.busy": "2022-10-24T00:03:03.322373Z",
     "iopub.status.idle": "2022-10-24T00:03:03.660836Z",
     "shell.execute_reply": "2022-10-24T00:03:03.659351Z",
     "shell.execute_reply.started": "2022-10-24T00:03:03.322849Z"
    }
   },
   "outputs": [],
   "source": [
    "plotHistory(model_1_history)"
   ]
  },
  {
   "cell_type": "code",
   "execution_count": null,
   "metadata": {
    "execution": {
     "iopub.execute_input": "2022-10-24T00:03:03.66324Z",
     "iopub.status.busy": "2022-10-24T00:03:03.662671Z",
     "iopub.status.idle": "2022-10-24T00:03:52.80264Z",
     "shell.execute_reply": "2022-10-24T00:03:52.801303Z",
     "shell.execute_reply.started": "2022-10-24T00:03:03.663189Z"
    }
   },
   "outputs": [],
   "source": [
    "model_2 = k.models.Sequential([\n",
    "    k.layers.Dense(512, activation='relu', input_shape=(X_train.shape[1],)),\n",
    "    k.layers.Dropout(0.2),\n",
    "    \n",
    "    k.layers.Dense(256, activation='relu'),\n",
    "    k.layers.Dropout(0.2),\n",
    "\n",
    "    k.layers.Dense(128, activation='relu'),\n",
    "    k.layers.Dropout(0.2),\n",
    "\n",
    "    k.layers.Dense(64, activation='relu'),\n",
    "    k.layers.Dropout(0.2),\n",
    "\n",
    "    k.layers.Dense(10, activation='softmax'),\n",
    "])\n",
    "print(model_2.summary())\n",
    "model_2_history = trainModel(model=model_2, epochs=100, optimizer='adam')"
   ]
  },
  {
   "cell_type": "code",
   "execution_count": null,
   "metadata": {
    "execution": {
     "iopub.execute_input": "2022-10-24T00:03:52.80546Z",
     "iopub.status.busy": "2022-10-24T00:03:52.804686Z",
     "iopub.status.idle": "2022-10-24T00:03:53.064193Z",
     "shell.execute_reply": "2022-10-24T00:03:53.062957Z",
     "shell.execute_reply.started": "2022-10-24T00:03:52.805415Z"
    }
   },
   "outputs": [],
   "source": [
    "plotHistory(model_2_history)"
   ]
  },
  {
   "cell_type": "code",
   "execution_count": null,
   "metadata": {
    "execution": {
     "iopub.execute_input": "2022-10-24T00:03:53.065788Z",
     "iopub.status.busy": "2022-10-24T00:03:53.065404Z",
     "iopub.status.idle": "2022-10-24T00:09:21.20227Z",
     "shell.execute_reply": "2022-10-24T00:09:21.201289Z",
     "shell.execute_reply.started": "2022-10-24T00:03:53.065752Z"
    }
   },
   "outputs": [],
   "source": [
    "model_3 = k.models.Sequential([\n",
    "    k.layers.Dense(512, activation='relu', input_shape=(X_train.shape[1],)),\n",
    "    k.layers.Dropout(0.2),\n",
    "    \n",
    "    k.layers.Dense(256, activation='relu'),\n",
    "    k.layers.Dropout(0.2),\n",
    "\n",
    "    k.layers.Dense(128, activation='relu'),\n",
    "    k.layers.Dropout(0.2),\n",
    "\n",
    "    k.layers.Dense(64, activation='relu'),\n",
    "    k.layers.Dropout(0.2),\n",
    "\n",
    "    k.layers.Dense(10, activation='softmax'),\n",
    "])\n",
    "print(model_3.summary())\n",
    "model_3_history = trainModel(model=model_3, epochs=700, optimizer='sgd')"
   ]
  },
  {
   "cell_type": "code",
   "execution_count": null,
   "metadata": {
    "execution": {
     "iopub.execute_input": "2022-10-24T00:09:21.204826Z",
     "iopub.status.busy": "2022-10-24T00:09:21.20375Z",
     "iopub.status.idle": "2022-10-24T00:09:21.393753Z",
     "shell.execute_reply": "2022-10-24T00:09:21.392527Z",
     "shell.execute_reply.started": "2022-10-24T00:09:21.204787Z"
    }
   },
   "outputs": [],
   "source": [
    "plotHistory(model_3_history)"
   ]
  },
  {
   "cell_type": "code",
   "execution_count": null,
   "metadata": {
    "execution": {
     "iopub.execute_input": "2022-10-24T00:09:21.396349Z",
     "iopub.status.busy": "2022-10-24T00:09:21.395645Z",
     "iopub.status.idle": "2022-10-24T00:17:36.532294Z",
     "shell.execute_reply": "2022-10-24T00:17:36.531327Z",
     "shell.execute_reply.started": "2022-10-24T00:09:21.396305Z"
    }
   },
   "outputs": [],
   "source": [
    "model_4 = k.models.Sequential([\n",
    "    k.layers.Dense(1024, activation='relu', input_shape=(X_train.shape[1],)),\n",
    "    k.layers.Dropout(0.3),\n",
    "    \n",
    "    k.layers.Dense(512, activation='relu'),\n",
    "    k.layers.Dropout(0.3),\n",
    "\n",
    "    k.layers.Dense(256, activation='relu'),\n",
    "    k.layers.Dropout(0.3),\n",
    "\n",
    "    k.layers.Dense(128, activation='relu'),\n",
    "    k.layers.Dropout(0.3),\n",
    "\n",
    "    k.layers.Dense(64, activation='relu'),\n",
    "    k.layers.Dropout(0.3),\n",
    "\n",
    "    k.layers.Dense(10, activation='softmax'),\n",
    "])\n",
    "print(model_4.summary())\n",
    "model_4_history = trainModel(model=model_4, epochs=500, optimizer='rmsprop')"
   ]
  },
  {
   "cell_type": "code",
   "execution_count": null,
   "metadata": {
    "execution": {
     "iopub.execute_input": "2022-10-24T00:17:36.535631Z",
     "iopub.status.busy": "2022-10-24T00:17:36.534333Z",
     "iopub.status.idle": "2022-10-24T00:17:36.747913Z",
     "shell.execute_reply": "2022-10-24T00:17:36.746657Z",
     "shell.execute_reply.started": "2022-10-24T00:17:36.535585Z"
    }
   },
   "outputs": [],
   "source": [
    "plotHistory(model_4_history)"
   ]
  },
  {
   "cell_type": "markdown",
   "metadata": {},
   "source": [
    "## Predict the Test set results"
   ]
  },
  {
   "cell_type": "code",
   "execution_count": null,
   "metadata": {
    "execution": {
     "iopub.execute_input": "2022-10-24T00:17:36.750027Z",
     "iopub.status.busy": "2022-10-24T00:17:36.74953Z",
     "iopub.status.idle": "2022-10-24T00:17:36.868988Z",
     "shell.execute_reply": "2022-10-24T00:17:36.867764Z",
     "shell.execute_reply.started": "2022-10-24T00:17:36.749981Z"
    }
   },
   "outputs": [],
   "source": [
    "test_loss, test_acc  = model_4.evaluate(X_test, y_test, batch_size=128)\n",
    "print(\"The test Loss is :\",test_loss)\n",
    "print(\"\\nThe Best test Accuracy is :\",test_acc*100)"
   ]
  },
  {
   "cell_type": "code",
   "execution_count": null,
   "metadata": {
    "execution": {
     "iopub.execute_input": "2022-10-24T00:17:36.875482Z",
     "iopub.status.busy": "2022-10-24T00:17:36.874394Z",
     "iopub.status.idle": "2022-10-24T00:17:37.112734Z",
     "shell.execute_reply": "2022-10-24T00:17:37.111533Z",
     "shell.execute_reply.started": "2022-10-24T00:17:36.875429Z"
    }
   },
   "outputs": [],
   "source": [
    "predictions = model_4.predict(X_test)\n",
    "np.argmax(predictions[0])"
   ]
  },
  {
   "cell_type": "markdown",
   "metadata": {},
   "source": [
    "## Genre prediction on youtube videos "
   ]
  },
  {
   "cell_type": "code",
   "execution_count": null,
   "metadata": {
    "execution": {
     "iopub.execute_input": "2022-10-24T00:17:37.11465Z",
     "iopub.status.busy": "2022-10-24T00:17:37.114318Z",
     "iopub.status.idle": "2022-10-24T00:17:52.323498Z",
     "shell.execute_reply": "2022-10-24T00:17:52.321779Z",
     "shell.execute_reply.started": "2022-10-24T00:17:37.114615Z"
    }
   },
   "outputs": [],
   "source": [
    "pip install youtube-dl ffmpeg-python pydub"
   ]
  },
  {
   "cell_type": "code",
   "execution_count": null,
   "metadata": {
    "execution": {
     "iopub.execute_input": "2022-10-24T00:17:52.326668Z",
     "iopub.status.busy": "2022-10-24T00:17:52.326171Z",
     "iopub.status.idle": "2022-10-24T00:32:48.572755Z",
     "shell.execute_reply": "2022-10-24T00:32:48.571322Z",
     "shell.execute_reply.started": "2022-10-24T00:17:52.326624Z"
    }
   },
   "outputs": [],
   "source": [
    "from __future__ import unicode_literals\n",
    "import youtube_dl\n",
    "import ffmpeg\n",
    "\n",
    "ydl_opts = {\n",
    "    'format': 'bestaudio/best',\n",
    "    'outtmpl': 'output.%(ext)s',\n",
    "    'postprocessors': [{\n",
    "        'key': 'FFmpegExtractAudio',\n",
    "        'preferredcodec': 'wav',\n",
    "    }],\n",
    "}\n",
    "\n",
    "with youtube_dl.YoutubeDL(ydl_opts) as ydl:\n",
    "    url=input(\"Enter Youtube URL: \")\n",
    "    ydl.download([url])\n",
    "    stream = ffmpeg.input('output.m4a')\n",
    "    stream = ffmpeg.output(stream, 'output.wav')"
   ]
  },
  {
   "cell_type": "code",
   "execution_count": null,
   "metadata": {
    "execution": {
     "iopub.execute_input": "2022-10-24T00:32:48.57616Z",
     "iopub.status.busy": "2022-10-24T00:32:48.574742Z",
     "iopub.status.idle": "2022-10-24T00:32:48.68354Z",
     "shell.execute_reply": "2022-10-24T00:32:48.682156Z",
     "shell.execute_reply.started": "2022-10-24T00:32:48.576098Z"
    }
   },
   "outputs": [],
   "source": [
    "from pydub import AudioSegment\n",
    "\n",
    "t1 = 60000 #Works in milliseconds\n",
    "t2 = 90000\n",
    "\n",
    "waveFile = AudioSegment.from_file(\"output.wav\")\n",
    "waveFile = waveFile[t1:t2]\n",
    "waveFile.export('output_30s.wav', format=\"wav\")"
   ]
  },
  {
   "cell_type": "code",
   "execution_count": null,
   "metadata": {
    "execution": {
     "iopub.execute_input": "2022-10-24T00:32:48.686325Z",
     "iopub.status.busy": "2022-10-24T00:32:48.685084Z",
     "iopub.status.idle": "2022-10-24T00:32:48.695659Z",
     "shell.execute_reply": "2022-10-24T00:32:48.694455Z",
     "shell.execute_reply.started": "2022-10-24T00:32:48.686276Z"
    }
   },
   "outputs": [],
   "source": [
    "def fit_feature(songname):\n",
    "    y, sr = librosa.load(songname, mono=True, duration=30)\n",
    "    chroma_stft = librosa.feature.chroma_stft(y=y, sr=sr)\n",
    "    rmse = librosa.feature.rms(y=y)\n",
    "    spec_cent = librosa.feature.spectral_centroid(y=y, sr=sr)\n",
    "    spec_bw = librosa.feature.spectral_bandwidth(y=y, sr=sr)\n",
    "    rolloff = librosa.feature.spectral_rolloff(y=y, sr=sr)\n",
    "    zcr = librosa.feature.zero_crossing_rate(y)\n",
    "    mfcc = librosa.feature.mfcc(y=y, sr=sr)\n",
    "    feature = np.array([np.mean(chroma_stft), np.mean(rmse), np.mean(spec_cent), np.mean(spec_bw), np.mean(rolloff), np.mean(zcr)])   \n",
    "    for e in mfcc:\n",
    "        feature = np.append(feature, [np.mean(e)])\n",
    "    return feature"
   ]
  },
  {
   "cell_type": "code",
   "execution_count": null,
   "metadata": {
    "execution": {
     "iopub.execute_input": "2022-10-24T00:32:48.697739Z",
     "iopub.status.busy": "2022-10-24T00:32:48.697358Z",
     "iopub.status.idle": "2022-10-24T00:32:51.154021Z",
     "shell.execute_reply": "2022-10-24T00:32:51.152706Z",
     "shell.execute_reply.started": "2022-10-24T00:32:48.697694Z"
    }
   },
   "outputs": [],
   "source": [
    "file_path = \"output_30s.wav\"\n",
    "feature = fit_feature(file_path)\n",
    "y = model_4.predict(scaler.transform([feature]))\n",
    "ind = np.argmax(y)\n",
    "genres[ind]"
   ]
  }
 ],
 "metadata": {
  "kernelspec": {
   "display_name": "Python 3 (ipykernel)",
   "language": "python",
   "name": "python3"
  },
  "language_info": {
   "codemirror_mode": {
    "name": "ipython",
    "version": 3
   },
   "file_extension": ".py",
   "mimetype": "text/x-python",
   "name": "python",
   "nbconvert_exporter": "python",
   "pygments_lexer": "ipython3",
   "version": "3.9.12"
  }
 },
 "nbformat": 4,
 "nbformat_minor": 4
}
